{
 "cells": [
  {
   "cell_type": "code",
   "execution_count": 1,
   "metadata": {},
   "outputs": [
    {
     "data": {
      "text/plain": [
       "'/home/izam/coding/Text-Summarizer'"
      ]
     },
     "execution_count": 1,
     "metadata": {},
     "output_type": "execute_result"
    }
   ],
   "source": [
    "import os\n",
    "os.chdir(\"../\")\n",
    "os.getcwd()"
   ]
  },
  {
   "cell_type": "code",
   "execution_count": 2,
   "metadata": {},
   "outputs": [],
   "source": [
    "from dataclasses import dataclass\n",
    "from pathlib import Path\n",
    "\n",
    "@dataclass(frozen=True)\n",
    "class DataTransformationConfig:\n",
    "    root_dir: Path\n",
    "    data_path: Path\n",
    "    tokenizer_name: str\n",
    "    output_file_name: str"
   ]
  },
  {
   "cell_type": "code",
   "execution_count": 3,
   "metadata": {},
   "outputs": [],
   "source": [
    "from textSummarizer.constants import *\n",
    "from textSummarizer.utils.common import read_yaml, create_directories"
   ]
  },
  {
   "cell_type": "code",
   "execution_count": 4,
   "metadata": {},
   "outputs": [],
   "source": [
    "class ConfigurationManager:\n",
    "    def __init__(\n",
    "        self,\n",
    "        config_filepath = CONFIG_FILE_PATH,\n",
    "        params_filepath = PARAMS_FILE_PATH) -> None:\n",
    "        \"\"\"\n",
    "        Initializes the ConfigurationManager object.\n",
    "\n",
    "        Args:\n",
    "            config_filepath (str, optional): File path for the main configuration file.\n",
    "            params_filepath (str, optional): File path for the parameters file.\n",
    "        \"\"\"\n",
    "\n",
    "        self.config = read_yaml(config_filepath)\n",
    "        self.params = read_yaml(params_filepath)\n",
    "\n",
    "        create_directories([self.config.artifacts_root])\n",
    "        \n",
    "\n",
    "    def get_data_transformation_config(self) -> DataTransformationConfig:\n",
    "        \"\"\"\n",
    "        Retrieves the data transformation configuration.\n",
    "\n",
    "        Returns:\n",
    "            DataTransformationConfig: Object containing data transformation configuration settings.\n",
    "        \"\"\"\n",
    "        config = self.config.data_transformation\n",
    "\n",
    "        create_directories([config.root_dir])\n",
    "\n",
    "        data_transformation_config = DataTransformationConfig(\n",
    "            root_dir=config.root_dir,\n",
    "            data_path=config.data_path,\n",
    "            tokenizer_name = config.tokenizer_name,\n",
    "            output_file_name = config.output_file_name,\n",
    "        )\n",
    "\n",
    "        return data_transformation_config"
   ]
  },
  {
   "cell_type": "code",
   "execution_count": 5,
   "metadata": {},
   "outputs": [
    {
     "name": "stderr",
     "output_type": "stream",
     "text": [
      "/home/izam/anaconda3/envs/text-summarizer/lib/python3.11/site-packages/tqdm/auto.py:21: TqdmWarning: IProgress not found. Please update jupyter and ipywidgets. See https://ipywidgets.readthedocs.io/en/stable/user_install.html\n",
      "  from .autonotebook import tqdm as notebook_tqdm\n"
     ]
    },
    {
     "name": "stdout",
     "output_type": "stream",
     "text": [
      "[2024-02-02 02:04:35,123: INFO: config: PyTorch version 2.2.0 available.]\n"
     ]
    }
   ],
   "source": [
    "import os\n",
    "from textSummarizer.logging import logger\n",
    "from transformers import AutoTokenizer\n",
    "from datasets import load_dataset, load_from_disk"
   ]
  },
  {
   "cell_type": "code",
   "execution_count": 10,
   "metadata": {},
   "outputs": [],
   "source": [
    "class DataTransformation:\n",
    "    \"\"\"\n",
    "    A class for performing data transformation tasks.\n",
    "\n",
    "    Attributes:\n",
    "        config (DataTransformationConfig): Configuration object for data transformation.\n",
    "        tokenizer (AutoTokenizer): Tokenizer for processing text data.\n",
    "\n",
    "    Methods:\n",
    "        __init__: Initializes the DataTransformation object.\n",
    "        _convert_examples_to_features: Converts examples to features for the given model.\n",
    "        convert: Converts the input dataset to features and saves the transformed dataset.\n",
    "\n",
    "    Usage:\n",
    "        data_transformation = DataTransformation(config)\n",
    "        data_transformation.convert()\n",
    "    \"\"\"\n",
    "    \n",
    "    def __init__(self, config:DataTransformationConfig) -> None:\n",
    "        \"\"\"\n",
    "        Initializes the DataTransformation object.\n",
    "\n",
    "        Args:\n",
    "            config (DataTransformationConfig): Configuration object for data transformation.\n",
    "        \"\"\"\n",
    "        self.config = config\n",
    "        self.tokenizer = AutoTokenizer.from_pretrained(config.tokenizer_name)\n",
    "\n",
    "\n",
    "    def _convert_examples_to_features(self, example_batch):\n",
    "        \"\"\"\n",
    "        Converts examples to features for the given model.\n",
    "\n",
    "        Args:\n",
    "            example_batch (dict): Batch of examples containing \"dialogue\" and \"summary\".\n",
    "\n",
    "        Returns:\n",
    "            dict: Dictionary containing input_ids, attention_mask, and labels.\n",
    "        \"\"\"\n",
    "        input_encodings =  self.tokenizer(example_batch[\"dialogue\"], max_length=1024, truncation=True)\n",
    "\n",
    "        with self.tokenizer.as_target_tokenizer():\n",
    "            target_encodings = self.tokenizer(example_batch[\"summary\"], max_length=128, truncation=True)\n",
    "        \n",
    "        return {\n",
    "            'input_ids' : input_encodings['input_ids'],\n",
    "            'attention_mask': input_encodings['attention_mask'],\n",
    "            'labels': target_encodings['input_ids']\n",
    "        }\n",
    "\n",
    "\n",
    "    def convert(self):\n",
    "        \"\"\"\n",
    "        Converts the input dataset to features and saves the transformed dataset.\n",
    "\n",
    "        Returns:\n",
    "            None\n",
    "        \"\"\"\n",
    "        dataset_local = load_from_disk(self.config.data_path)\n",
    "        dataset_local_pt = dataset_local.map(self._convert_examples_to_features, batched=True)\n",
    "        dataset_local_pt.save_to_disk(os.path.join(self.config.root_dir, self.config.output_file_name))\n"
   ]
  },
  {
   "cell_type": "code",
   "execution_count": 11,
   "metadata": {},
   "outputs": [
    {
     "name": "stdout",
     "output_type": "stream",
     "text": [
      "[2024-02-02 02:05:16,193: INFO: common: yaml file: config/config.yaml loaded successfully]\n",
      "[2024-02-02 02:05:16,194: INFO: common: yaml file: params.yaml loaded successfully]\n",
      "[2024-02-02 02:05:16,194: INFO: common: created directory at: artifacts]\n",
      "[2024-02-02 02:05:16,195: INFO: common: created directory at: artifacts/data_transformation]\n"
     ]
    },
    {
     "name": "stderr",
     "output_type": "stream",
     "text": [
      "Map:   0%|          | 0/14732 [00:00<?, ? examples/s]/home/izam/anaconda3/envs/text-summarizer/lib/python3.11/site-packages/transformers/tokenization_utils_base.py:3866: UserWarning: `as_target_tokenizer` is deprecated and will be removed in v5 of Transformers. You can tokenize your labels by using the argument `text_target` of the regular `__call__` method (either in the same call as your input texts if you use the same keyword arguments, or in a separate call.\n",
      "  warnings.warn(\n",
      "Map: 100%|██████████| 14732/14732 [00:01<00:00, 9437.92 examples/s]\n",
      "Map: 100%|██████████| 819/819 [00:00<00:00, 10043.05 examples/s]\n",
      "Map: 100%|██████████| 818/818 [00:00<00:00, 9933.41 examples/s]\n",
      "Saving the dataset (1/1 shards): 100%|██████████| 14732/14732 [00:00<00:00, 440479.66 examples/s]\n",
      "Saving the dataset (1/1 shards): 100%|██████████| 819/819 [00:00<00:00, 171115.07 examples/s]\n",
      "Saving the dataset (1/1 shards): 100%|██████████| 818/818 [00:00<00:00, 229694.09 examples/s]\n"
     ]
    }
   ],
   "source": [
    "try:\n",
    "    config = ConfigurationManager()\n",
    "    data_transformation_config = config.get_data_transformation_config()\n",
    "    data_transformation = DataTransformation(config=data_transformation_config)\n",
    "    data_transformation.convert()\n",
    "except Exception as e: \n",
    "    raise e"
   ]
  }
 ],
 "metadata": {
  "kernelspec": {
   "display_name": "text-summarizer",
   "language": "python",
   "name": "python3"
  },
  "language_info": {
   "codemirror_mode": {
    "name": "ipython",
    "version": 3
   },
   "file_extension": ".py",
   "mimetype": "text/x-python",
   "name": "python",
   "nbconvert_exporter": "python",
   "pygments_lexer": "ipython3",
   "version": "3.11.7"
  }
 },
 "nbformat": 4,
 "nbformat_minor": 2
}
